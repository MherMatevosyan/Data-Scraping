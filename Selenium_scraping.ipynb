{
 "cells": [
  {
   "cell_type": "code",
   "execution_count": 37,
   "metadata": {
    "collapsed": false
   },
   "outputs": [],
   "source": [
    "import csv\n",
    "import pandas as pd\n",
    "from selenium import webdriver\n",
    "driver = webdriver.Chrome()\n",
    "url = 'http://rate.am/en/armenian-dram-exchange-rates/banks/non-cash'\n",
    "driver.get(url)\n",
    "date_select = driver.find_elements_by_class_name(\"date-picker\")[0]\n",
    "date_select.click()\n",
    "date_20 = driver.find_element_by_xpath('//*[@id=\"calBorder\"]/span/table/tbody/tr[3]/td/table/tbody/tr[5]/td[4]')\n",
    "date_20.click()\n",
    "show_button = driver.find_element_by_id('ctl00_Content_RB_dtpick1_btnOk')\n",
    "show_button.click()\n",
    "page = driver.page_source"
   ]
  },
  {
   "cell_type": "code",
   "execution_count": 38,
   "metadata": {
    "collapsed": false
   },
   "outputs": [],
   "source": [
    "our_table = []\n",
    "table=pd.read_html(page)\n",
    "t=table[2]\n",
    "our_table.append(t[[1,4,5,6,7,8,9,10,11,12]][0:19])"
   ]
  },
  {
   "cell_type": "code",
   "execution_count": 39,
   "metadata": {
    "collapsed": true
   },
   "outputs": [],
   "source": [
    "our_table[0].to_csv(\"rate_20_7_2017.csv\",encoding='utf-8')"
   ]
  },
  {
   "cell_type": "code",
   "execution_count": 58,
   "metadata": {
    "collapsed": true
   },
   "outputs": [],
   "source": [
    "from BeautifulSoup import *"
   ]
  },
  {
   "cell_type": "code",
   "execution_count": 109,
   "metadata": {
    "collapsed": false
   },
   "outputs": [],
   "source": [
    "driver = webdriver.Chrome()\n",
    "html = 'https://staff.am/en'\n",
    "driver.get(html)\n",
    "train = driver.find_element_by_xpath('//*[@id=\"jobsearchform-type\"]/label[2]/input')\n",
    "train.click()\n",
    "button = driver.find_element_by_xpath('//*[@id=\"w0\"]/div/div[4]/button')\n",
    "button.click()\n",
    "#driver.find_element_by_link_text('1').click()\n",
    "page1 = driver.page_source\n",
    "soup1 = BeautifulSoup(page1)\n",
    "\n",
    "driver.find_element_by_link_text('2').click()\n",
    "page2 = driver.page_source\n",
    "soup2 = BeautifulSoup(page2)\n",
    "driver.find_element_by_link_text('1').click()\n",
    "page1 = driver.page_source\n",
    "soup1 = BeautifulSoup(page1)\n"
   ]
  },
  {
   "cell_type": "code",
   "execution_count": 115,
   "metadata": {
    "collapsed": false
   },
   "outputs": [],
   "source": [
    "names1 = soup1.findAll('div',attrs={'class':'job-inner training-item-title'})\n",
    "prices1 = soup1.findAll('div',attrs={'class':'training-price job-inner'})\n",
    "names2 = soup2.findAll('div',attrs={'class':'job-inner training-item-title'})\n",
    "prices2 = soup2.findAll('div',attrs={'class':'training-price job-inner'})"
   ]
  },
  {
   "cell_type": "code",
   "execution_count": 117,
   "metadata": {
    "collapsed": false
   },
   "outputs": [],
   "source": [
    "names = []\n",
    "prices = []\n",
    "for i in range(len(prices1)):\n",
    "    prices.append(prices1[i])\n",
    "    names.append(names1[i])\n",
    "for i in range(len(prices2)):\n",
    "    prices.append(prices2[i])\n",
    "    names.append(names2[i])"
   ]
  },
  {
   "cell_type": "code",
   "execution_count": 161,
   "metadata": {
    "collapsed": false
   },
   "outputs": [],
   "source": [
    "import re\n",
    "from __future__ import division"
   ]
  },
  {
   "cell_type": "code",
   "execution_count": 140,
   "metadata": {
    "collapsed": false
   },
   "outputs": [],
   "source": [
    "real_names = []\n",
    "real_prices = []\n",
    "for i in range(len(names)):\n",
    "    real_names.append(names[i].findAll('h4')[0].text)\n",
    "    real_prices.append(prices[i].findAll('p')[0].text)"
   ]
  },
  {
   "cell_type": "code",
   "execution_count": 162,
   "metadata": {
    "collapsed": false
   },
   "outputs": [
    {
     "data": {
      "text/plain": [
       "66691.66666666667"
      ]
     },
     "execution_count": 162,
     "metadata": {},
     "output_type": "execute_result"
    }
   ],
   "source": [
    "x = []\n",
    "sum_x = 0\n",
    "for i in real_prices:\n",
    "    y = re.findall('[0-9]+',i)\n",
    "    if len(y)==1:\n",
    "        x.append(int(y[0]))\n",
    "        sum_x=sum_x+int(y[0])\n",
    "avg = sum_x/len(x)\n",
    "avg"
   ]
  },
  {
   "cell_type": "code",
   "execution_count": 165,
   "metadata": {
    "collapsed": true
   },
   "outputs": [],
   "source": [
    "driver = webdriver.Chrome()\n",
    "url = 'https://www.cba.am/am/SitePages/Default.aspx'\n",
    "driver.get(url)\n",
    "#exchange = driver.find_element_by_id('ExchangePanelC1')\n",
    "#exchange.click()\n",
    "ems = driver.find_elements_by_class_name('w_50')"
   ]
  },
  {
   "cell_type": "code",
   "execution_count": 168,
   "metadata": {
    "collapsed": false
   },
   "outputs": [
    {
     "data": {
      "text/plain": [
       "478.85"
      ]
     },
     "execution_count": 168,
     "metadata": {},
     "output_type": "execute_result"
    }
   ],
   "source": [
    "float(ems[2].text)"
   ]
  },
  {
   "cell_type": "code",
   "execution_count": null,
   "metadata": {
    "collapsed": true
   },
   "outputs": [],
   "source": []
  }
 ],
 "metadata": {
  "kernelspec": {
   "display_name": "Python 2",
   "language": "python",
   "name": "python2"
  },
  "language_info": {
   "codemirror_mode": {
    "name": "ipython",
    "version": 2
   },
   "file_extension": ".py",
   "mimetype": "text/x-python",
   "name": "python",
   "nbconvert_exporter": "python",
   "pygments_lexer": "ipython2",
   "version": "2.7.13"
  }
 },
 "nbformat": 4,
 "nbformat_minor": 2
}
