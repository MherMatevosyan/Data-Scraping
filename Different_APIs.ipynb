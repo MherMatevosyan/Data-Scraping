{
 "cells": [
  {
   "cell_type": "code",
   "execution_count": 1,
   "metadata": {
    "collapsed": false
   },
   "outputs": [],
   "source": [
    "import quandl\n",
    "import re\n",
    "import googlemaps\n",
    "import matplotlib.pyplot as plt\n",
    "from datetime import datetime\n",
    "from tqdm import tqdm\n",
    "plt.style.use('ggplot')"
   ]
  },
  {
   "cell_type": "code",
   "execution_count": 2,
   "metadata": {
    "collapsed": true
   },
   "outputs": [],
   "source": [
    "with open('quandl_key.txt', 'r') as f:\n",
    "    q_key = f.read()"
   ]
  },
  {
   "cell_type": "code",
   "execution_count": 3,
   "metadata": {
    "collapsed": false
   },
   "outputs": [
    {
     "data": {
      "image/png": "[encoded data removed]",
      "text/plain": [
       "<matplotlib.figure.Figure at 0x1dbe668>"
      ]
     },
     "metadata": {},
     "output_type": "display_data"
    }
   ],
   "source": [
    "Armenia_trade = quandl.get(\"WWDI/ARM_NY_TTF_GNFS_KN\",authtoken=q_key)\n",
    "Luxembourg_trade = quandl.get(\"WWDI/LUX_NY_TTF_GNFS_KN\", authtoken=q_key)\n",
    "plt.plot(Armenia_trade, 'b')\n",
    "plt.plot(Luxembourg_trade, 'r')\n",
    "plt.show()"
   ]
  },
  {
   "cell_type": "code",
   "execution_count": 4,
   "metadata": {
    "collapsed": false
   },
   "outputs": [],
   "source": [
    "sort_list = []\n",
    "for i in range(len(Armenia_trade[\"Value\"])):\n",
    "    sort_list.append(Armenia_trade['Value'][i])\n",
    "    sort_list.sort()\n",
    "max_2nd = sort_list[-2]"
   ]
  },
  {
   "cell_type": "code",
   "execution_count": 5,
   "metadata": {
    "collapsed": false
   },
   "outputs": [
    {
     "data": {
      "text/plain": [
       "4624303108.7461996"
      ]
     },
     "execution_count": 5,
     "metadata": {},
     "output_type": "execute_result"
    }
   ],
   "source": [
    "max_2nd"
   ]
  },
  {
   "cell_type": "code",
   "execution_count": 6,
   "metadata": {
    "collapsed": false
   },
   "outputs": [
    {
     "data": {
      "image/png": "[encoded data removed]",
      "text/plain": [
       "<matplotlib.figure.Figure at 0xa43de48>"
      ]
     },
     "metadata": {},
     "output_type": "display_data"
    }
   ],
   "source": [
    "A_exports = quandl.get('WWDI/ARM_TX_VAL_MRCH_CD_WT', authtoken=q_key)\n",
    "A_imports = quandl.get('WWDI/ARM_TM_VAL_MRCH_CD_WT', authtoken=q_key)\n",
    "plt.plot(A_exports, 'b')\n",
    "plt.plot(A_imports, 'r')\n",
    "plt.show()"
   ]
  },
  {
   "cell_type": "code",
   "execution_count": 7,
   "metadata": {
    "collapsed": false
   },
   "outputs": [
    {
     "data": {
      "text/html": [
       "<div>\n",
       "<table border=\"1\" class=\"dataframe\">\n",
       "  <thead>\n",
       "    <tr style=\"text-align: right;\">\n",
       "      <th></th>\n",
       "      <th>WIKI/ATVI - Close</th>\n",
       "      <th>SSE/N9B - Last</th>\n",
       "      <th>TSE/9697 - Close</th>\n",
       "    </tr>\n",
       "  </thead>\n",
       "  <tbody>\n",
       "    <tr>\n",
       "      <th>WIKI/ATVI - Close</th>\n",
       "      <td>1.000000</td>\n",
       "      <td>0.817310</td>\n",
       "      <td>0.724184</td>\n",
       "    </tr>\n",
       "    <tr>\n",
       "      <th>SSE/N9B - Last</th>\n",
       "      <td>0.817310</td>\n",
       "      <td>1.000000</td>\n",
       "      <td>0.452613</td>\n",
       "    </tr>\n",
       "    <tr>\n",
       "      <th>TSE/9697 - Close</th>\n",
       "      <td>0.724184</td>\n",
       "      <td>0.452613</td>\n",
       "      <td>1.000000</td>\n",
       "    </tr>\n",
       "  </tbody>\n",
       "</table>\n",
       "</div>"
      ],
      "text/plain": [
       "                   WIKI/ATVI - Close  SSE/N9B - Last  TSE/9697 - Close\n",
       "WIKI/ATVI - Close           1.000000        0.817310          0.724184\n",
       "SSE/N9B - Last              0.817310        1.000000          0.452613\n",
       "TSE/9697 - Close            0.724184        0.452613          1.000000"
      ]
     },
     "execution_count": 7,
     "metadata": {},
     "output_type": "execute_result"
    }
   ],
   "source": [
    "data = quandl.get(['WIKI/ATVI','SSE/N9B', 'TSE/9697'], authtoken=q_key, \n",
    "                  trim_start=\"2000-1-1\", trim_end=\"2016-12-31\", collapse = 'dayly')\n",
    "data1=data[['WIKI/ATVI - Close','SSE/N9B - Last','TSE/9697 - Close']]\n",
    "data1.corr()"
   ]
  },
  {
   "cell_type": "code",
   "execution_count": 8,
   "metadata": {
    "collapsed": true
   },
   "outputs": [],
   "source": [
    "with open('google_key.txt','r') as f:\n",
    "    g_key = f.read()\n",
    "gmaps = googlemaps.Client(key=g_key)"
   ]
  },
  {
   "cell_type": "code",
   "execution_count": 10,
   "metadata": {
    "collapsed": false
   },
   "outputs": [
    {
     "name": "stderr",
     "output_type": "stream",
     "text": [
      "\n",
      "  0%|                                                   | 0/10 [00:00<?, ?it/s]\n"
     ]
    },
    {
     "name": "stdout",
     "output_type": "stream",
     "text": [
      "The distance beetween New York,USA and Los Angeles,USA is 4493.27728 km or 2,792 mi\n"
     ]
    },
    {
     "name": "stderr",
     "output_type": "stream",
     "text": [
      "\n",
      " 10%|████▎                                      | 1/10 [00:03<00:33,  3.67s/it]"
     ]
    },
    {
     "name": "stdout",
     "output_type": "stream",
     "text": [
      "The distance beetween New York,USA and San Francisco,USA is 4678.35138 km or 2,907 mi\n"
     ]
    },
    {
     "name": "stderr",
     "output_type": "stream",
     "text": [
      "\n",
      " 20%|████████▌                                  | 2/10 [00:07<00:29,  3.72s/it]"
     ]
    },
    {
     "name": "stdout",
     "output_type": "stream",
     "text": [
      "The distance beetween New York,USA and Las Vegas,USA is 4061.97416 km or 2,524 mi\n"
     ]
    },
    {
     "name": "stderr",
     "output_type": "stream",
     "text": [
      "\n",
      " 30%|████████████▉                              | 3/10 [00:11<00:26,  3.78s/it]"
     ]
    },
    {
     "name": "stdout",
     "output_type": "stream",
     "text": [
      "The distance beetween New York,USA and Chicago,USA is 1272.98794 km or 791 mi\n"
     ]
    },
    {
     "name": "stderr",
     "output_type": "stream",
     "text": [
      "\n",
      " 40%|█████████████████▏                         | 4/10 [00:14<00:21,  3.61s/it]"
     ]
    },
    {
     "name": "stdout",
     "output_type": "stream",
     "text": [
      "The distance beetween New York,USA and Memphis,USA is 1765.44598 km or 1,097 mi\n"
     ]
    },
    {
     "name": "stderr",
     "output_type": "stream",
     "text": [
      "\n",
      " 50%|█████████████████████▌                     | 5/10 [00:18<00:17,  3.59s/it]"
     ]
    },
    {
     "name": "stdout",
     "output_type": "stream",
     "text": [
      "The distance beetween New York,USA and Detroit,USA is 992.96278 km or 617 mi\n"
     ]
    },
    {
     "name": "stderr",
     "output_type": "stream",
     "text": [
      "\n",
      " 60%|█████████████████████████▊                 | 6/10 [00:21<00:13,  3.49s/it]"
     ]
    },
    {
     "name": "stdout",
     "output_type": "stream",
     "text": [
      "The distance beetween New York,USA and Nashvile,USA is 1425.87524 km or 886 mi\n"
     ]
    },
    {
     "name": "stderr",
     "output_type": "stream",
     "text": [
      "\n",
      " 70%|██████████████████████████████             | 7/10 [00:24<00:09,  3.23s/it]"
     ]
    },
    {
     "name": "stdout",
     "output_type": "stream",
     "text": [
      "The distance beetween New York,USA and Boston,USA is 344.39876 km or 214 mi\n"
     ]
    },
    {
     "name": "stderr",
     "output_type": "stream",
     "text": [
      "\n",
      " 80%|██████████████████████████████████▍        | 8/10 [00:25<00:05,  2.71s/it]"
     ]
    },
    {
     "name": "stdout",
     "output_type": "stream",
     "text": [
      "The distance beetween New York,USA and Berkeley,USA is 4663.86732 km or 2,898 mi\n"
     ]
    },
    {
     "name": "stderr",
     "output_type": "stream",
     "text": [
      "\n",
      " 90%|██████████████████████████████████████▋    | 9/10 [00:28<00:02,  2.89s/it]"
     ]
    },
    {
     "name": "stdout",
     "output_type": "stream",
     "text": [
      "The distance beetween New York,USA and Kansas city,USA is 1916.72394 km or 1,191 mi\n"
     ]
    },
    {
     "name": "stderr",
     "output_type": "stream",
     "text": [
      "\n",
      "100%|██████████████████████████████████████████| 10/10 [00:32<00:00,  3.12s/it]\n"
     ]
    }
   ],
   "source": [
    "now=datetime.now()\n",
    "loc1 = 'New York,USA'\n",
    "locations = ['Los Angeles,USA','San Francisco,USA','Las Vegas,USA','Chicago,USA','Memphis,USA','Detroit,USA','Nashvile,USA',\n",
    "             'Boston,USA','Berkeley,USA','Kansas city,USA']\n",
    "for loc2 in tqdm(locations):\n",
    "    directions=gmaps.directions(loc1,loc2, departure_time=now)\n",
    "    for i in directions:\n",
    "        legs=i[\"legs\"]\n",
    "        for leg in legs:\n",
    "            dist =leg[\"distance\"]\n",
    "            x = str(dist[\"text\"])\n",
    "            y = re.sub(',','',x)\n",
    "            z = re.findall('[0-9]+',y)\n",
    "            km = float(z[0])*1.60934\n",
    "            print \"The distance beetween \"+loc1+\" and \"+loc2+\" is \"+str(km)+\" km\"+\" or \"+dist[\"text\"]"
   ]
  }
 ],
 "metadata": {
  "kernelspec": {
   "display_name": "Python 2",
   "language": "python",
   "name": "python2"
  },
  "language_info": {
   "codemirror_mode": {
    "name": "ipython",
    "version": 2
   },
   "file_extension": ".py",
   "mimetype": "text/x-python",
   "name": "python",
   "nbconvert_exporter": "python",
   "pygments_lexer": "ipython2",
   "version": "2.7.13"
  }
 },
 "nbformat": 4,
 "nbformat_minor": 2
}
